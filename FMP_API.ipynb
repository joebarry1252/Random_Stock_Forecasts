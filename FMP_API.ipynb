{
 "cells": [
  {
   "cell_type": "code",
   "execution_count": 1,
   "id": "e6f8fad7-6cac-48d8-9b00-891aff7f24b9",
   "metadata": {},
   "outputs": [],
   "source": [
    "import numpy as np\n",
    "import pandas as pd\n",
    "import os\n",
    "import alpaca_trade_api as tradeapi\n",
    "import datetime as dt\n",
    "import pytz\n",
    "import os\n",
    "import alpaca_trade_api as tradeapi\n",
    "from MCForecastTools import MCSimulation\n",
    "from urllib.request import urlopen\n",
    "import json\n",
    "from pprint import pprint"
   ]
  },
  {
   "cell_type": "code",
   "execution_count": 6,
   "metadata": {},
   "outputs": [],
   "source": [
    "aapl_url = (\"https://financialmodelingprep.com/api/v3/profile/AAPL?apikey=30f38fe4adae4904fc1497cf7bea1fca\")"
   ]
  },
  {
   "cell_type": "code",
   "execution_count": 7,
   "id": "d275a3e1-9482-4359-bcdc-38e585c807e4",
   "metadata": {},
   "outputs": [],
   "source": [
    "def get_jsonparsed_data(aapl_url):\n",
    "    response = urlopen(aapl_url)\n",
    "    data = response.read().decode(\"utf-8\")\n",
    "    return json.loads(data)"
   ]
  },
  {
   "cell_type": "code",
   "execution_count": 21,
   "metadata": {},
   "outputs": [],
   "source": [
    "Banks_DCF = (\"https://financialmodelingprep.com/api/v3/company/discounted-cash-flow/BAC,C,GS,JPM,MS,WFC?apikey=30f38fe4adae4904fc1497cf7bea1fca\")"
   ]
  },
  {
   "cell_type": "code",
   "execution_count": 28,
   "metadata": {},
   "outputs": [],
   "source": [
    "Banks_DCF_Clean = get_jsonparsed_data(Banks_DCF)\n",
    "Banks_DCF_Clean = Banks_DCF_Clean[\"DCFList\"]"
   ]
  },
  {
   "cell_type": "code",
   "execution_count": 32,
   "metadata": {},
   "outputs": [
    {
     "output_type": "execute_result",
     "data": {
      "text/plain": [
       "[{'symbol': 'BAC',\n",
       "  'date': '2021-06-07',\n",
       "  'dcf': 87.22338645418327,\n",
       "  'Stock Price': 43.17},\n",
       " {'symbol': 'C',\n",
       "  'date': '2021-06-07',\n",
       "  'dcf': 227.96140287769785,\n",
       "  'Stock Price': 79.465},\n",
       " {'symbol': 'GS',\n",
       "  'date': '2021-06-07',\n",
       "  'dcf': 822.2399071765032,\n",
       "  'Stock Price': 390.425},\n",
       " {'symbol': 'JPM',\n",
       "  'date': '2021-06-07',\n",
       "  'dcf': 336.8704607397794,\n",
       "  'Stock Price': 165.68},\n",
       " {'symbol': 'MS',\n",
       "  'date': '2021-06-07',\n",
       "  'dcf': 151.7015205327414,\n",
       "  'Stock Price': 93.07},\n",
       " {'symbol': 'WFC',\n",
       "  'date': '2021-06-07',\n",
       "  'dcf': 53.87985825552707,\n",
       "  'Stock Price': 47.05}]"
      ]
     },
     "metadata": {},
     "execution_count": 32
    }
   ],
   "source": [
    "Banks_DCF_Clean"
   ]
  },
  {
   "cell_type": "code",
   "execution_count": 37,
   "metadata": {},
   "outputs": [
    {
     "output_type": "execute_result",
     "data": {
      "text/plain": [
       "  symbol        date         dcf  Stock Price\n",
       "0    BAC  2021-06-07   87.223386       43.170\n",
       "1      C  2021-06-07  227.961403       79.465\n",
       "2     GS  2021-06-07  822.239907      390.425\n",
       "3    JPM  2021-06-07  336.870461      165.680\n",
       "4     MS  2021-06-07  151.701521       93.070\n",
       "5    WFC  2021-06-07   53.879858       47.050"
      ],
      "text/html": "<div>\n<style scoped>\n    .dataframe tbody tr th:only-of-type {\n        vertical-align: middle;\n    }\n\n    .dataframe tbody tr th {\n        vertical-align: top;\n    }\n\n    .dataframe thead th {\n        text-align: right;\n    }\n</style>\n<table border=\"1\" class=\"dataframe\">\n  <thead>\n    <tr style=\"text-align: right;\">\n      <th></th>\n      <th>symbol</th>\n      <th>date</th>\n      <th>dcf</th>\n      <th>Stock Price</th>\n    </tr>\n  </thead>\n  <tbody>\n    <tr>\n      <th>0</th>\n      <td>BAC</td>\n      <td>2021-06-07</td>\n      <td>87.223386</td>\n      <td>43.170</td>\n    </tr>\n    <tr>\n      <th>1</th>\n      <td>C</td>\n      <td>2021-06-07</td>\n      <td>227.961403</td>\n      <td>79.465</td>\n    </tr>\n    <tr>\n      <th>2</th>\n      <td>GS</td>\n      <td>2021-06-07</td>\n      <td>822.239907</td>\n      <td>390.425</td>\n    </tr>\n    <tr>\n      <th>3</th>\n      <td>JPM</td>\n      <td>2021-06-07</td>\n      <td>336.870461</td>\n      <td>165.680</td>\n    </tr>\n    <tr>\n      <th>4</th>\n      <td>MS</td>\n      <td>2021-06-07</td>\n      <td>151.701521</td>\n      <td>93.070</td>\n    </tr>\n    <tr>\n      <th>5</th>\n      <td>WFC</td>\n      <td>2021-06-07</td>\n      <td>53.879858</td>\n      <td>47.050</td>\n    </tr>\n  </tbody>\n</table>\n</div>"
     },
     "metadata": {},
     "execution_count": 37
    }
   ],
   "source": [
    "Banks_DCF_dataframe = pd.DataFrame(Banks_DCF_Clean)\n",
    "Banks_DCF_dataframe"
   ]
  },
  {
   "cell_type": "code",
   "execution_count": 38,
   "metadata": {},
   "outputs": [],
   "source": [
    "Banks_DCF_dataframe.index.name"
   ]
  },
  {
   "cell_type": "code",
   "execution_count": 41,
   "metadata": {},
   "outputs": [
    {
     "output_type": "execute_result",
     "data": {
      "text/plain": [
       "              date         dcf  Stock Price\n",
       "symbol                                     \n",
       "BAC     2021-06-07   87.223386       43.170\n",
       "C       2021-06-07  227.961403       79.465\n",
       "GS      2021-06-07  822.239907      390.425\n",
       "JPM     2021-06-07  336.870461      165.680\n",
       "MS      2021-06-07  151.701521       93.070\n",
       "WFC     2021-06-07   53.879858       47.050"
      ],
      "text/html": "<div>\n<style scoped>\n    .dataframe tbody tr th:only-of-type {\n        vertical-align: middle;\n    }\n\n    .dataframe tbody tr th {\n        vertical-align: top;\n    }\n\n    .dataframe thead th {\n        text-align: right;\n    }\n</style>\n<table border=\"1\" class=\"dataframe\">\n  <thead>\n    <tr style=\"text-align: right;\">\n      <th></th>\n      <th>date</th>\n      <th>dcf</th>\n      <th>Stock Price</th>\n    </tr>\n    <tr>\n      <th>symbol</th>\n      <th></th>\n      <th></th>\n      <th></th>\n    </tr>\n  </thead>\n  <tbody>\n    <tr>\n      <th>BAC</th>\n      <td>2021-06-07</td>\n      <td>87.223386</td>\n      <td>43.170</td>\n    </tr>\n    <tr>\n      <th>C</th>\n      <td>2021-06-07</td>\n      <td>227.961403</td>\n      <td>79.465</td>\n    </tr>\n    <tr>\n      <th>GS</th>\n      <td>2021-06-07</td>\n      <td>822.239907</td>\n      <td>390.425</td>\n    </tr>\n    <tr>\n      <th>JPM</th>\n      <td>2021-06-07</td>\n      <td>336.870461</td>\n      <td>165.680</td>\n    </tr>\n    <tr>\n      <th>MS</th>\n      <td>2021-06-07</td>\n      <td>151.701521</td>\n      <td>93.070</td>\n    </tr>\n    <tr>\n      <th>WFC</th>\n      <td>2021-06-07</td>\n      <td>53.879858</td>\n      <td>47.050</td>\n    </tr>\n  </tbody>\n</table>\n</div>"
     },
     "metadata": {},
     "execution_count": 41
    }
   ],
   "source": [
    "Banks_DCF_dataframe.set_index('symbol')"
   ]
  },
  {
   "cell_type": "code",
   "execution_count": 45,
   "metadata": {},
   "outputs": [],
   "source": [
    "Banks_DCF_dataframe.set_index('symbol', inplace=True)\n"
   ]
  },
  {
   "cell_type": "code",
   "execution_count": 48,
   "metadata": {},
   "outputs": [
    {
     "output_type": "execute_result",
     "data": {
      "text/plain": [
       "               dcf  Stock Price\n",
       "symbol                         \n",
       "BAC      87.223386       43.170\n",
       "C       227.961403       79.465\n",
       "GS      822.239907      390.425\n",
       "JPM     336.870461      165.680\n",
       "MS      151.701521       93.070\n",
       "WFC      53.879858       47.050"
      ],
      "text/html": "<div>\n<style scoped>\n    .dataframe tbody tr th:only-of-type {\n        vertical-align: middle;\n    }\n\n    .dataframe tbody tr th {\n        vertical-align: top;\n    }\n\n    .dataframe thead th {\n        text-align: right;\n    }\n</style>\n<table border=\"1\" class=\"dataframe\">\n  <thead>\n    <tr style=\"text-align: right;\">\n      <th></th>\n      <th>dcf</th>\n      <th>Stock Price</th>\n    </tr>\n    <tr>\n      <th>symbol</th>\n      <th></th>\n      <th></th>\n    </tr>\n  </thead>\n  <tbody>\n    <tr>\n      <th>BAC</th>\n      <td>87.223386</td>\n      <td>43.170</td>\n    </tr>\n    <tr>\n      <th>C</th>\n      <td>227.961403</td>\n      <td>79.465</td>\n    </tr>\n    <tr>\n      <th>GS</th>\n      <td>822.239907</td>\n      <td>390.425</td>\n    </tr>\n    <tr>\n      <th>JPM</th>\n      <td>336.870461</td>\n      <td>165.680</td>\n    </tr>\n    <tr>\n      <th>MS</th>\n      <td>151.701521</td>\n      <td>93.070</td>\n    </tr>\n    <tr>\n      <th>WFC</th>\n      <td>53.879858</td>\n      <td>47.050</td>\n    </tr>\n  </tbody>\n</table>\n</div>"
     },
     "metadata": {},
     "execution_count": 48
    }
   ],
   "source": [
    "Banks_DCF_dataframe.drop(columns=['date'])"
   ]
  },
  {
   "cell_type": "code",
   "execution_count": 50,
   "metadata": {},
   "outputs": [
    {
     "output_type": "execute_result",
     "data": {
      "text/plain": [
       "  symbol        date         dcf  Stock Price\n",
       "0    BAC  2021-06-07   87.223386       43.170\n",
       "1      C  2021-06-07  227.961403       79.465\n",
       "2     GS  2021-06-07  822.239907      390.425\n",
       "3    JPM  2021-06-07  336.870461      165.680\n",
       "4     MS  2021-06-07  151.701521       93.070\n",
       "5    WFC  2021-06-07   53.879858       47.050"
      ],
      "text/html": "<div>\n<style scoped>\n    .dataframe tbody tr th:only-of-type {\n        vertical-align: middle;\n    }\n\n    .dataframe tbody tr th {\n        vertical-align: top;\n    }\n\n    .dataframe thead th {\n        text-align: right;\n    }\n</style>\n<table border=\"1\" class=\"dataframe\">\n  <thead>\n    <tr style=\"text-align: right;\">\n      <th></th>\n      <th>symbol</th>\n      <th>date</th>\n      <th>dcf</th>\n      <th>Stock Price</th>\n    </tr>\n  </thead>\n  <tbody>\n    <tr>\n      <th>0</th>\n      <td>BAC</td>\n      <td>2021-06-07</td>\n      <td>87.223386</td>\n      <td>43.170</td>\n    </tr>\n    <tr>\n      <th>1</th>\n      <td>C</td>\n      <td>2021-06-07</td>\n      <td>227.961403</td>\n      <td>79.465</td>\n    </tr>\n    <tr>\n      <th>2</th>\n      <td>GS</td>\n      <td>2021-06-07</td>\n      <td>822.239907</td>\n      <td>390.425</td>\n    </tr>\n    <tr>\n      <th>3</th>\n      <td>JPM</td>\n      <td>2021-06-07</td>\n      <td>336.870461</td>\n      <td>165.680</td>\n    </tr>\n    <tr>\n      <th>4</th>\n      <td>MS</td>\n      <td>2021-06-07</td>\n      <td>151.701521</td>\n      <td>93.070</td>\n    </tr>\n    <tr>\n      <th>5</th>\n      <td>WFC</td>\n      <td>2021-06-07</td>\n      <td>53.879858</td>\n      <td>47.050</td>\n    </tr>\n  </tbody>\n</table>\n</div>"
     },
     "metadata": {},
     "execution_count": 50
    }
   ],
   "source": [
    "Banks_DCF_dataframe.reset_index()"
   ]
  },
  {
   "cell_type": "code",
   "execution_count": 51,
   "metadata": {},
   "outputs": [],
   "source": [
    "Banks_DCF_dataframe.drop(columns=['date'], inplace=True)"
   ]
  },
  {
   "cell_type": "code",
   "execution_count": 52,
   "metadata": {},
   "outputs": [
    {
     "output_type": "execute_result",
     "data": {
      "text/plain": [
       "               dcf  Stock Price\n",
       "symbol                         \n",
       "BAC      87.223386       43.170\n",
       "C       227.961403       79.465\n",
       "GS      822.239907      390.425\n",
       "JPM     336.870461      165.680\n",
       "MS      151.701521       93.070\n",
       "WFC      53.879858       47.050"
      ],
      "text/html": "<div>\n<style scoped>\n    .dataframe tbody tr th:only-of-type {\n        vertical-align: middle;\n    }\n\n    .dataframe tbody tr th {\n        vertical-align: top;\n    }\n\n    .dataframe thead th {\n        text-align: right;\n    }\n</style>\n<table border=\"1\" class=\"dataframe\">\n  <thead>\n    <tr style=\"text-align: right;\">\n      <th></th>\n      <th>dcf</th>\n      <th>Stock Price</th>\n    </tr>\n    <tr>\n      <th>symbol</th>\n      <th></th>\n      <th></th>\n    </tr>\n  </thead>\n  <tbody>\n    <tr>\n      <th>BAC</th>\n      <td>87.223386</td>\n      <td>43.170</td>\n    </tr>\n    <tr>\n      <th>C</th>\n      <td>227.961403</td>\n      <td>79.465</td>\n    </tr>\n    <tr>\n      <th>GS</th>\n      <td>822.239907</td>\n      <td>390.425</td>\n    </tr>\n    <tr>\n      <th>JPM</th>\n      <td>336.870461</td>\n      <td>165.680</td>\n    </tr>\n    <tr>\n      <th>MS</th>\n      <td>151.701521</td>\n      <td>93.070</td>\n    </tr>\n    <tr>\n      <th>WFC</th>\n      <td>53.879858</td>\n      <td>47.050</td>\n    </tr>\n  </tbody>\n</table>\n</div>"
     },
     "metadata": {},
     "execution_count": 52
    }
   ],
   "source": [
    "Banks_DCF_dataframe"
   ]
  },
  {
   "cell_type": "code",
   "execution_count": 53,
   "metadata": {},
   "outputs": [
    {
     "output_type": "execute_result",
     "data": {
      "text/plain": [
       "               DCF  Stock_Price\n",
       "symbol                         \n",
       "BAC      87.223386       43.170\n",
       "C       227.961403       79.465\n",
       "GS      822.239907      390.425\n",
       "JPM     336.870461      165.680\n",
       "MS      151.701521       93.070\n",
       "WFC      53.879858       47.050"
      ],
      "text/html": "<div>\n<style scoped>\n    .dataframe tbody tr th:only-of-type {\n        vertical-align: middle;\n    }\n\n    .dataframe tbody tr th {\n        vertical-align: top;\n    }\n\n    .dataframe thead th {\n        text-align: right;\n    }\n</style>\n<table border=\"1\" class=\"dataframe\">\n  <thead>\n    <tr style=\"text-align: right;\">\n      <th></th>\n      <th>DCF</th>\n      <th>Stock_Price</th>\n    </tr>\n    <tr>\n      <th>symbol</th>\n      <th></th>\n      <th></th>\n    </tr>\n  </thead>\n  <tbody>\n    <tr>\n      <th>BAC</th>\n      <td>87.223386</td>\n      <td>43.170</td>\n    </tr>\n    <tr>\n      <th>C</th>\n      <td>227.961403</td>\n      <td>79.465</td>\n    </tr>\n    <tr>\n      <th>GS</th>\n      <td>822.239907</td>\n      <td>390.425</td>\n    </tr>\n    <tr>\n      <th>JPM</th>\n      <td>336.870461</td>\n      <td>165.680</td>\n    </tr>\n    <tr>\n      <th>MS</th>\n      <td>151.701521</td>\n      <td>93.070</td>\n    </tr>\n    <tr>\n      <th>WFC</th>\n      <td>53.879858</td>\n      <td>47.050</td>\n    </tr>\n  </tbody>\n</table>\n</div>"
     },
     "metadata": {},
     "execution_count": 53
    }
   ],
   "source": [
    "Banks_DCF_dataframe.rename(columns={\"dcf\":\"DCF\",\"Stock Price\":\"Stock_Price\"})"
   ]
  },
  {
   "cell_type": "code",
   "execution_count": 54,
   "metadata": {},
   "outputs": [
    {
     "output_type": "execute_result",
     "data": {
      "text/plain": [
       "'symbol'"
      ]
     },
     "metadata": {},
     "execution_count": 54
    }
   ],
   "source": [
    "Banks_DCF_dataframe.index.name"
   ]
  },
  {
   "cell_type": "code",
   "execution_count": 55,
   "metadata": {},
   "outputs": [
    {
     "output_type": "execute_result",
     "data": {
      "text/plain": [
       "'Symbol'"
      ]
     },
     "metadata": {},
     "execution_count": 55
    }
   ],
   "source": [
    "Banks_DCF_dataframe.index.name = 'Symbol'\n",
    "Banks_DCF_dataframe.index.name"
   ]
  },
  {
   "cell_type": "code",
   "execution_count": 56,
   "metadata": {},
   "outputs": [
    {
     "output_type": "execute_result",
     "data": {
      "text/plain": [
       "               dcf  Stock Price\n",
       "Symbol                         \n",
       "BAC      87.223386       43.170\n",
       "C       227.961403       79.465\n",
       "GS      822.239907      390.425\n",
       "JPM     336.870461      165.680\n",
       "MS      151.701521       93.070\n",
       "WFC      53.879858       47.050"
      ],
      "text/html": "<div>\n<style scoped>\n    .dataframe tbody tr th:only-of-type {\n        vertical-align: middle;\n    }\n\n    .dataframe tbody tr th {\n        vertical-align: top;\n    }\n\n    .dataframe thead th {\n        text-align: right;\n    }\n</style>\n<table border=\"1\" class=\"dataframe\">\n  <thead>\n    <tr style=\"text-align: right;\">\n      <th></th>\n      <th>dcf</th>\n      <th>Stock Price</th>\n    </tr>\n    <tr>\n      <th>Symbol</th>\n      <th></th>\n      <th></th>\n    </tr>\n  </thead>\n  <tbody>\n    <tr>\n      <th>BAC</th>\n      <td>87.223386</td>\n      <td>43.170</td>\n    </tr>\n    <tr>\n      <th>C</th>\n      <td>227.961403</td>\n      <td>79.465</td>\n    </tr>\n    <tr>\n      <th>GS</th>\n      <td>822.239907</td>\n      <td>390.425</td>\n    </tr>\n    <tr>\n      <th>JPM</th>\n      <td>336.870461</td>\n      <td>165.680</td>\n    </tr>\n    <tr>\n      <th>MS</th>\n      <td>151.701521</td>\n      <td>93.070</td>\n    </tr>\n    <tr>\n      <th>WFC</th>\n      <td>53.879858</td>\n      <td>47.050</td>\n    </tr>\n  </tbody>\n</table>\n</div>"
     },
     "metadata": {},
     "execution_count": 56
    }
   ],
   "source": [
    "Banks_DCF_dataframe"
   ]
  },
  {
   "cell_type": "code",
   "execution_count": 58,
   "metadata": {},
   "outputs": [
    {
     "output_type": "execute_result",
     "data": {
      "text/plain": [
       "               DCF  Stock_Price\n",
       "Symbol                         \n",
       "BAC      87.223386       43.170\n",
       "C       227.961403       79.465\n",
       "GS      822.239907      390.425\n",
       "JPM     336.870461      165.680\n",
       "MS      151.701521       93.070\n",
       "WFC      53.879858       47.050"
      ],
      "text/html": "<div>\n<style scoped>\n    .dataframe tbody tr th:only-of-type {\n        vertical-align: middle;\n    }\n\n    .dataframe tbody tr th {\n        vertical-align: top;\n    }\n\n    .dataframe thead th {\n        text-align: right;\n    }\n</style>\n<table border=\"1\" class=\"dataframe\">\n  <thead>\n    <tr style=\"text-align: right;\">\n      <th></th>\n      <th>DCF</th>\n      <th>Stock_Price</th>\n    </tr>\n    <tr>\n      <th>Symbol</th>\n      <th></th>\n      <th></th>\n    </tr>\n  </thead>\n  <tbody>\n    <tr>\n      <th>BAC</th>\n      <td>87.223386</td>\n      <td>43.170</td>\n    </tr>\n    <tr>\n      <th>C</th>\n      <td>227.961403</td>\n      <td>79.465</td>\n    </tr>\n    <tr>\n      <th>GS</th>\n      <td>822.239907</td>\n      <td>390.425</td>\n    </tr>\n    <tr>\n      <th>JPM</th>\n      <td>336.870461</td>\n      <td>165.680</td>\n    </tr>\n    <tr>\n      <th>MS</th>\n      <td>151.701521</td>\n      <td>93.070</td>\n    </tr>\n    <tr>\n      <th>WFC</th>\n      <td>53.879858</td>\n      <td>47.050</td>\n    </tr>\n  </tbody>\n</table>\n</div>"
     },
     "metadata": {},
     "execution_count": 58
    }
   ],
   "source": [
    "Banks_DCF_dataframe.rename(columns={\"dcf\":\"DCF\",\"Stock Price\":\"Stock_Price\"}, inplace=True)\n",
    "Banks_DCF_dataframe.rename(columns={\"dcf\":\"DCF\",\"Stock Price\":\"Stock_Price\"})"
   ]
  },
  {
   "cell_type": "code",
   "execution_count": null,
   "metadata": {},
   "outputs": [],
   "source": []
  }
 ],
 "metadata": {
  "kernelspec": {
   "display_name": "Python 3",
   "language": "python",
   "name": "python3"
  },
  "language_info": {
   "codemirror_mode": {
    "name": "ipython",
    "version": 3
   },
   "file_extension": ".py",
   "mimetype": "text/x-python",
   "name": "python",
   "nbconvert_exporter": "python",
   "pygments_lexer": "ipython3",
   "version": "3.8.5"
  }
 },
 "nbformat": 4,
 "nbformat_minor": 5
}